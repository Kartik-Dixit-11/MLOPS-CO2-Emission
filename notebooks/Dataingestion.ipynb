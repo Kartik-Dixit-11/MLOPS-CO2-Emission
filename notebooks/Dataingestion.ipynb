{
 "cells": [
  {
   "cell_type": "code",
   "execution_count": 2,
   "metadata": {},
   "outputs": [],
   "source": [
    "from Regression.utils.shared import get_yamlcontent,create_directories\n",
    "from Regression.constants import *\n",
    "from Regression import logger\n",
    "from pathlib import Path\n",
    "from sklearn.model_selection import train_test_split\n",
    "import pandas as pd\n",
    "from dataclasses import dataclass\n",
    "import os"
   ]
  },
  {
   "cell_type": "code",
   "execution_count": 11,
   "metadata": {},
   "outputs": [],
   "source": [
    "\n",
    "@dataclass\n",
    "class Dataingestconfig:\n",
    "    Source: Path\n",
    "    Destination: Path\n",
    "\n",
    "class ConfigurationManager:\n",
    "    def __init__(self,config_filepath = CONFIG_FILE_PATH,):\n",
    "            self.config = get_yamlcontent(config_filepath)\n",
    "            create_directories([self.config.artifacts_root])\n",
    "\n",
    "    \n",
    "    def get_data_ingestion_config(self) -> Dataingestconfig:\n",
    "        config = self.config.data_ingestion\n",
    "\n",
    "        create_directories([config.create])\n",
    "\n",
    "        data_ingestion_config = Dataingestconfig(Source=config.path,Destination=config.create)\n",
    "\n",
    "        return data_ingestion_config\n",
    "\n",
    "class DataIngestion:\n",
    "    def __init__(self,config):\n",
    "        try:\n",
    "            self.paths=config\n",
    "        except Exception as e:\n",
    "            raise e\n",
    "\n",
    "    def start_ingestion(self):\n",
    "        try:\n",
    "            fp=self.paths.Destination\n",
    "            df=pd.read_csv(Path(self.paths.Source))\n",
    "\n",
    "            X=df.drop('CO2 Emissions(g/km)',axis=1)\n",
    "            Y=df['CO2 Emissions(g/km)']\n",
    "           \n",
    "            X_train,X_test,Y_train,Y_test=train_test_split(X,Y,test_size=0.2,random_state=42)\n",
    "            Training_Data=pd.concat([X_train,Y_train],axis=1)\n",
    "            Testing_Data=pd.concat([X_test,Y_test],axis=1)\n",
    "\n",
    "\n",
    "            Training_Data.to_csv(os.path.join(fp,\"training.csv\"))\n",
    "            Testing_Data.to_csv(os.path.join(fp,'testing.csv'))\n",
    "            logger.info(\"Training and Testing Split was Successful\")\n",
    "        \n",
    "        except Exception as e:\n",
    "            raise e\n",
    "        \n",
    "#try:\n",
    "manager=ConfigurationManager()\n",
    "dataconfig=manager.get_data_ingestion_config()\n",
    "Dataingest=DataIngestion(config=dataconfig)\n",
    "Dataingest.start_ingestion()\n",
    "logger.info(\"Successfully Ingested The Data\")\n",
    "#except Exception as e:\n",
    "        #print('Error')\n",
    "\n",
    "\n"
   ]
  },
  {
   "cell_type": "code",
   "execution_count": 3,
   "metadata": {},
   "outputs": [
    {
     "data": {
      "text/plain": [
       "True"
      ]
     },
     "execution_count": 3,
     "metadata": {},
     "output_type": "execute_result"
    }
   ],
   "source": [
    "os.path.isdir(r'd:/MLFLOW/Data')"
   ]
  },
  {
   "cell_type": "code",
   "execution_count": null,
   "metadata": {},
   "outputs": [],
   "source": []
  }
 ],
 "metadata": {
  "kernelspec": {
   "display_name": "Final",
   "language": "python",
   "name": "python3"
  },
  "language_info": {
   "codemirror_mode": {
    "name": "ipython",
    "version": 3
   },
   "file_extension": ".py",
   "mimetype": "text/x-python",
   "name": "python",
   "nbconvert_exporter": "python",
   "pygments_lexer": "ipython3",
   "version": "3.10.13"
  }
 },
 "nbformat": 4,
 "nbformat_minor": 2
}
